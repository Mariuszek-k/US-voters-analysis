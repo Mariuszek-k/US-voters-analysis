{
 "cells": [
  {
   "cell_type": "code",
   "execution_count": 1,
   "metadata": {},
   "outputs": [],
   "source": [
    "import pandas as pd \n",
    "data_whole = pd.read_csv(\"VOTER_Survey_December16_Release1.csv\", low_memory=False) \n",
    "data=data_whole[[\n",
    " 'presvote16post_2016',\n",
    " 'fav_trump_2016',\n",
    " 'fav_hrc_2016',\n",
    " 'fav_sanders_2016',\n",
    " 'trust_people_2016',\n",
    " 'CIVIC_PARTICIPATION_2016',\n",
    " 'POLITICAL_CORRECTNESS_2016',\n",
    " 'race_2016',\n",
    " 'smokenow_2016',\n",
    " 'educ_2016',\n",
    " 'marstat_2016',\n",
    " 'ideo5_2016',\n",
    " 'newsint_2016',\n",
    "    \n",
    " 'pew_religimp_2016',\n",
    " 'pew_churatd_2016',\n",
    " 'pew_prayer_2016',\n",
    " 'religpew_2016',\n",
    "    \n",
    " 'urbancity_baseline',\n",
    "    \n",
    " 'smoke100_baseline',\n",
    " 'gender_baseline',\n",
    " 'faminc_baseline',]]\n",
    "\n",
    "#filtering data\n",
    "list_of_candidates=['Hillary Clinton','Donald Trump','Did not vote for President']\n",
    "data=data[data['presvote16post_2016'].isin(list_of_candidates)]"
   ]
  },
  {
   "cell_type": "code",
   "execution_count": 2,
   "metadata": {},
   "outputs": [
    {
     "data": {
      "image/png": "[encoded data removed]",
      "text/plain": [
       "<Figure size 432x288 with 1 Axes>"
      ]
     },
     "metadata": {
      "needs_background": "light"
     },
     "output_type": "display_data"
    }
   ],
   "source": [
    "    import matplotlib.pyplot as plt\n",
    "    def hist_plot_by_two_values(variable1,variable2):\n",
    "        data_copy=data[[variable1,variable2]]\n",
    "        data_copy_clean=data_copy.dropna(axis=0, how='any')\n",
    "    \n",
    "    \n",
    "        list_of_values=[]\n",
    "        for x in data_copy_clean[variable2].unique():\n",
    "            list_of_values.append(x)\n",
    "       \n",
    "        list_of_numpy_arrays=[]\n",
    "        for x in list_of_values:\n",
    "            list_of_numpy_arrays.append(data_copy_clean[variable1][data_copy_clean[variable2]==x])\n",
    "        \n",
    "        plt.hist(list_of_numpy_arrays,rwidth=1)\n",
    "        \n",
    "        plt.legend(data_copy_clean[variable2].unique())\n",
    "        \n",
    "        plt.title(variable2)\n",
    "        plt.xlabel(variable1)\n",
    "        plt.ylabel('number of voters')\n",
    "        \n",
    "        if(len(data_copy_clean[variable1].unique())>3):\n",
    "            plt.xticks(rotation=90)\n",
    "        elif(len(data_copy_clean[variable1].unique())>5):\n",
    "            plt.xticks(rotation=45)\n",
    "        elif(len(data_copy_clean[variable1].unique())>8):\n",
    "            plt.xticks(rotation=90)\n",
    "        \n",
    "#         plt.show\n",
    "        \n",
    "        \n",
    "hist_plot_by_two_values('educ_2016','smoke100_baseline')"
   ]
  },
  {
   "cell_type": "code",
   "execution_count": 3,
   "metadata": {},
   "outputs": [
    {
     "data": {
      "text/plain": [
       "<module 'matplotlib.pyplot' from 'D:\\\\Anaconda\\\\lib\\\\site-packages\\\\matplotlib\\\\pyplot.py'>"
      ]
     },
     "execution_count": 3,
     "metadata": {},
     "output_type": "execute_result"
    },
    {
     "data": {
      "image/png": "[encoded data removed]",
      "text/plain": [
       "<Figure size 432x288 with 1 Axes>"
      ]
     },
     "metadata": {
      "needs_background": "light"
     },
     "output_type": "display_data"
    }
   ],
   "source": [
    "def hist_plot_by_two_values_return(variable1,variable2):\n",
    "    data_copy=data[[variable1,variable2]]\n",
    "    data_copy_clean=data_copy.dropna(axis=0, how='any')\n",
    "\n",
    "\n",
    "    list_of_values=[]\n",
    "    for x in data_copy_clean[variable2].unique():\n",
    "        list_of_values.append(x)\n",
    "\n",
    "    list_of_numpy_arrays=[]\n",
    "    for x in list_of_values:\n",
    "        list_of_numpy_arrays.append(data_copy_clean[variable1][data_copy_clean[variable2]==x])\n",
    "\n",
    "    plt.hist(list_of_numpy_arrays,rwidth=1)\n",
    "\n",
    "    plt.legend(data_copy_clean[variable2].unique())\n",
    "\n",
    "    plt.title(variable2)\n",
    "    plt.xlabel(variable1)\n",
    "    plt.ylabel('number of voters')\n",
    "\n",
    "    if(len(data_copy_clean[variable1].unique())>3):\n",
    "        plt.xticks(rotation=90)\n",
    "    elif(len(data_copy_clean[variable1].unique())>5):\n",
    "        plt.xticks(rotation=45)\n",
    "    elif(len(data_copy_clean[variable1].unique())>8):\n",
    "        plt.xticks(rotation=90)\n",
    "        \n",
    "    return plt\n",
    "\n",
    "hist_plot_by_two_values_return('educ_2016','smoke100_baseline')"
   ]
  },
  {
   "cell_type": "code",
   "execution_count": 4,
   "metadata": {},
   "outputs": [
    {
     "data": {
      "text/plain": [
       "array(['4-year', 'Some college', 'High school graduate', '2-year',\n",
       "       'Post-grad', 'No HS'], dtype=object)"
      ]
     },
     "execution_count": 4,
     "metadata": {},
     "output_type": "execute_result"
    }
   ],
   "source": [
    "data[\"educ_2016\"].unique()"
   ]
  },
  {
   "cell_type": "code",
   "execution_count": 5,
   "metadata": {},
   "outputs": [],
   "source": [
    "# PLOTTING ALL COMBINATIONS OF PLOTS TO FILE\n",
    "# o=0\n",
    "# plt.tight_layout()\n",
    "# for i in range(len(data.columns)):\n",
    "#     for x in range(i+1,len(data.columns)):\n",
    "#         o+=1\n",
    "#         plt.figure(figsize=(20, 10))\n",
    "#         hist_plot_by_two_values(data.columns[i],data.columns[x])\n",
    "# #         plt.autoscale()\n",
    "#         plt.tight_layout()\n",
    "\n",
    "#         plt.savefig(f'plots/{data.columns[i]}  WITH  {data.columns[x]}.png')\n",
    "#         plt.clf()\n",
    "# #     print(x)"
   ]
  },
  {
   "cell_type": "code",
   "execution_count": 6,
   "metadata": {},
   "outputs": [
    {
     "data": {
      "text/html": [
       "<div>\n",
       "<style scoped>\n",
       "    .dataframe tbody tr th:only-of-type {\n",
       "        vertical-align: middle;\n",
       "    }\n",
       "\n",
       "    .dataframe tbody tr th {\n",
       "        vertical-align: top;\n",
       "    }\n",
       "\n",
       "    .dataframe thead th {\n",
       "        text-align: right;\n",
       "    }\n",
       "</style>\n",
       "<table border=\"1\" class=\"dataframe\">\n",
       "  <thead>\n",
       "    <tr style=\"text-align: right;\">\n",
       "      <th>educ_2016</th>\n",
       "      <th>2-year</th>\n",
       "      <th>4-year</th>\n",
       "      <th>High school graduate</th>\n",
       "      <th>No HS</th>\n",
       "      <th>Post-grad</th>\n",
       "      <th>Some college</th>\n",
       "    </tr>\n",
       "    <tr>\n",
       "      <th>smoke100_baseline</th>\n",
       "      <th></th>\n",
       "      <th></th>\n",
       "      <th></th>\n",
       "      <th></th>\n",
       "      <th></th>\n",
       "      <th></th>\n",
       "    </tr>\n",
       "  </thead>\n",
       "  <tbody>\n",
       "    <tr>\n",
       "      <th>No</th>\n",
       "      <td>357</td>\n",
       "      <td>1081</td>\n",
       "      <td>598</td>\n",
       "      <td>27</td>\n",
       "      <td>766</td>\n",
       "      <td>610</td>\n",
       "    </tr>\n",
       "    <tr>\n",
       "      <th>Yes</th>\n",
       "      <td>393</td>\n",
       "      <td>683</td>\n",
       "      <td>1011</td>\n",
       "      <td>94</td>\n",
       "      <td>409</td>\n",
       "      <td>943</td>\n",
       "    </tr>\n",
       "  </tbody>\n",
       "</table>\n",
       "</div>"
      ],
      "text/plain": [
       "educ_2016          2-year  4-year  High school graduate  No HS  Post-grad  \\\n",
       "smoke100_baseline                                                           \n",
       "No                    357    1081                   598     27        766   \n",
       "Yes                   393     683                  1011     94        409   \n",
       "\n",
       "educ_2016          Some college  \n",
       "smoke100_baseline                \n",
       "No                          610  \n",
       "Yes                         943  "
      ]
     },
     "execution_count": 6,
     "metadata": {},
     "output_type": "execute_result"
    }
   ],
   "source": [
    "# !pip install researchpy\n",
    "import pandas as pd\n",
    "import researchpy as rp\n",
    "import scipy.stats as stats\n",
    "data\n",
    "\n",
    "\n",
    "\n",
    "\n",
    "\n",
    "\n",
    "#significant\n",
    "# chosen_variable1=\"newsint_2016\"\n",
    "# chosen_variable2=\"marstat_2016\"\n",
    "\n",
    "\n",
    "#significant:\n",
    "# chosen_variable2=\"gender_baseline\"\n",
    "# chosen_variable1=\"newsint_2016\"\n",
    "\n",
    "\n",
    "\n",
    "\n",
    "#RELIGION:\n",
    "\n",
    "#significant:\n",
    "# chosen_variable1=\"newsint_2016\"\n",
    "# chosen_variable2=\"religpew_2016\"\n",
    "\n",
    "#significant:\n",
    "# chosen_variable1='smokenow_2016'\n",
    "# chosen_variable2='pew_churatd_2016'\n",
    "\n",
    "# NOT significant:\n",
    "# chosen_variable1='smokenow_2016'\n",
    "# chosen_variable2='pew_prayer_2016'\n",
    "\n",
    "# NOT significant:\n",
    "# chosen_variable1='smokenow_2016'\n",
    "# chosen_variable2='pew_religimp_2016'\n",
    "\n",
    "\n",
    "#EDUCATION:\n",
    "\n",
    "#not significant:\n",
    "# chosen_variable2=\"educ_2016\"\n",
    "# chosen_variable1=\"smokenow_2016\"\n",
    "\n",
    "#significant:\n",
    "chosen_variable1=\"smoke100_baseline\"\n",
    "chosen_variable2=\"educ_2016\"\n",
    "\n",
    "#significant\n",
    "# chosen_variable1=\"newsint_2016\"\n",
    "# chosen_variable2=\"educ_2016\"\n",
    "\n",
    "\n",
    "\n",
    "#half significant (only for post_grad value)\n",
    "# chosen_variable1=\"smokenow_2016\"\n",
    "# chosen_variable2=\"educ_2016\"\n",
    "\n",
    "\n",
    "#TRUST TO OTHER PEOPLE:\n",
    "\n",
    "#significant:\n",
    "# chosen_variable1=\"presvote16post_2016\"\n",
    "# chosen_variable2=\"trust_people_2016\"\n",
    "\n",
    "# NOT significant:\n",
    "# chosen_variable1=\"trust_people_2016\"\n",
    "# chosen_variable2=\"urbancity_baseline\"\n",
    "\n",
    "\n",
    "\n",
    "crosstab, test_results, expected = rp.crosstab(data[chosen_variable1], data[chosen_variable2],\n",
    "                                               test= \"chi-square\",\n",
    "                                               expected_freqs= True,\n",
    "                                               prop= \"cell\")\n",
    "\n",
    "\n",
    "crosstab = pd.crosstab( data[chosen_variable1],data[chosen_variable2])\n",
    "crosstab\n",
    "\n",
    "normalized=crosstab.div(crosstab.sum(axis=0), axis=1)\n",
    "crosstab\n"
   ]
  },
  {
   "cell_type": "code",
   "execution_count": 7,
   "metadata": {
    "scrolled": true
   },
   "outputs": [
    {
     "data": {
      "text/html": [
       "<div>\n",
       "<style scoped>\n",
       "    .dataframe tbody tr th:only-of-type {\n",
       "        vertical-align: middle;\n",
       "    }\n",
       "\n",
       "    .dataframe tbody tr th {\n",
       "        vertical-align: top;\n",
       "    }\n",
       "\n",
       "    .dataframe thead th {\n",
       "        text-align: right;\n",
       "    }\n",
       "</style>\n",
       "<table border=\"1\" class=\"dataframe\">\n",
       "  <thead>\n",
       "    <tr style=\"text-align: right;\">\n",
       "      <th>educ_2016</th>\n",
       "      <th>2-year</th>\n",
       "      <th>4-year</th>\n",
       "      <th>High school graduate</th>\n",
       "      <th>No HS</th>\n",
       "      <th>Post-grad</th>\n",
       "      <th>Some college</th>\n",
       "    </tr>\n",
       "    <tr>\n",
       "      <th>smoke100_baseline</th>\n",
       "      <th></th>\n",
       "      <th></th>\n",
       "      <th></th>\n",
       "      <th></th>\n",
       "      <th></th>\n",
       "      <th></th>\n",
       "    </tr>\n",
       "  </thead>\n",
       "  <tbody>\n",
       "    <tr>\n",
       "      <th>No</th>\n",
       "      <td>357</td>\n",
       "      <td>1081</td>\n",
       "      <td>598</td>\n",
       "      <td>27</td>\n",
       "      <td>766</td>\n",
       "      <td>610</td>\n",
       "    </tr>\n",
       "    <tr>\n",
       "      <th>Yes</th>\n",
       "      <td>393</td>\n",
       "      <td>683</td>\n",
       "      <td>1011</td>\n",
       "      <td>94</td>\n",
       "      <td>409</td>\n",
       "      <td>943</td>\n",
       "    </tr>\n",
       "  </tbody>\n",
       "</table>\n",
       "</div>"
      ],
      "text/plain": [
       "educ_2016          2-year  4-year  High school graduate  No HS  Post-grad  \\\n",
       "smoke100_baseline                                                           \n",
       "No                    357    1081                   598     27        766   \n",
       "Yes                   393     683                  1011     94        409   \n",
       "\n",
       "educ_2016          Some college  \n",
       "smoke100_baseline                \n",
       "No                          610  \n",
       "Yes                         943  "
      ]
     },
     "execution_count": 7,
     "metadata": {},
     "output_type": "execute_result"
    }
   ],
   "source": [
    "crosstab"
   ]
  },
  {
   "cell_type": "code",
   "execution_count": 8,
   "metadata": {},
   "outputs": [
    {
     "data": {
      "text/html": [
       "<div>\n",
       "<style scoped>\n",
       "    .dataframe tbody tr th:only-of-type {\n",
       "        vertical-align: middle;\n",
       "    }\n",
       "\n",
       "    .dataframe tbody tr th {\n",
       "        vertical-align: top;\n",
       "    }\n",
       "\n",
       "    .dataframe thead th {\n",
       "        text-align: right;\n",
       "    }\n",
       "</style>\n",
       "<table border=\"1\" class=\"dataframe\">\n",
       "  <thead>\n",
       "    <tr style=\"text-align: right;\">\n",
       "      <th></th>\n",
       "      <th>Chi-square test</th>\n",
       "      <th>results</th>\n",
       "    </tr>\n",
       "  </thead>\n",
       "  <tbody>\n",
       "    <tr>\n",
       "      <th>0</th>\n",
       "      <td>Pearson Chi-square ( 5.0) =</td>\n",
       "      <td>413.3128</td>\n",
       "    </tr>\n",
       "    <tr>\n",
       "      <th>1</th>\n",
       "      <td>p-value =</td>\n",
       "      <td>0.0000</td>\n",
       "    </tr>\n",
       "    <tr>\n",
       "      <th>2</th>\n",
       "      <td>Cramer's V =</td>\n",
       "      <td>0.2435</td>\n",
       "    </tr>\n",
       "  </tbody>\n",
       "</table>\n",
       "</div>"
      ],
      "text/plain": [
       "                Chi-square test   results\n",
       "0  Pearson Chi-square ( 5.0) =   413.3128\n",
       "1                    p-value =     0.0000\n",
       "2                 Cramer's V =     0.2435"
      ]
     },
     "execution_count": 8,
     "metadata": {},
     "output_type": "execute_result"
    }
   ],
   "source": [
    "test_results\n",
    "\n",
    "#The p-value of 0.000 signifies that the difference between the two proportions is statistically significant.\n"
   ]
  },
  {
   "cell_type": "code",
   "execution_count": 9,
   "metadata": {},
   "outputs": [
    {
     "data": {
      "text/plain": [
       "pandas.core.frame.DataFrame"
      ]
     },
     "execution_count": 9,
     "metadata": {},
     "output_type": "execute_result"
    }
   ],
   "source": [
    "type(rp.summary_cat(data[[chosen_variable1, chosen_variable2]]))"
   ]
  },
  {
   "cell_type": "code",
   "execution_count": 10,
   "metadata": {},
   "outputs": [
    {
     "name": "stdout",
     "output_type": "stream",
     "text": [
      "Help on function crosstab in module researchpy.crosstab:\n",
      "\n",
      "crosstab(group1, group2, prop=None, test=False, margins=True, correction=None, cramer_correction=None, exact=False, expected_freqs=False)\n",
      "\n"
     ]
    }
   ],
   "source": [
    "help(rp.crosstab)"
   ]
  },
  {
   "cell_type": "code",
   "execution_count": 11,
   "metadata": {},
   "outputs": [
    {
     "data": {
      "text/plain": [
       "Index(['presvote16post_2016', 'fav_trump_2016', 'fav_hrc_2016',\n",
       "       'fav_sanders_2016', 'trust_people_2016', 'CIVIC_PARTICIPATION_2016',\n",
       "       'POLITICAL_CORRECTNESS_2016', 'race_2016', 'smokenow_2016', 'educ_2016',\n",
       "       'marstat_2016', 'ideo5_2016', 'newsint_2016', 'pew_religimp_2016',\n",
       "       'pew_churatd_2016', 'pew_prayer_2016', 'religpew_2016',\n",
       "       'urbancity_baseline', 'smoke100_baseline', 'gender_baseline',\n",
       "       'faminc_baseline'],\n",
       "      dtype='object')"
      ]
     },
     "execution_count": 11,
     "metadata": {},
     "output_type": "execute_result"
    }
   ],
   "source": [
    "data.columns"
   ]
  },
  {
   "cell_type": "code",
   "execution_count": 12,
   "metadata": {},
   "outputs": [],
   "source": [
    "#DASHBOARD\n",
    "\n",
    "\n",
    "# !pip install plotly\n",
    "# !pip install dash\n",
    "import pandas as pd\n",
    "import plotly.express as px  # (version 4.7.0)\n",
    "import plotly.graph_objects as go\n",
    "\n",
    "import dash  # (version 1.12.0) pip install dash\n",
    "import dash_core_components as dcc\n",
    "import dash_html_components as html\n",
    "from dash.dependencies import Input, Output\n",
    "\n",
    "app2 = dash.Dash(__name__)\n",
    "\n",
    "\n",
    "# App layout\n",
    "app2.layout = html.Div([\n",
    "\n",
    "    html.H1(\"Dashboard - Voters Analysis\", style={'text-align': 'center'}),\n",
    "\n",
    "    dcc.Dropdown(id=\"variable1\",\n",
    "                 options=[\n",
    "                     {\"label\": \"Interest in news\", \"value\": 'newsint_2016'},\n",
    "                     {\"label\": \"Vote for president\", \"value\": 'presvote16post_2016'},\n",
    "                     {\"label\": \"Trump Favorability\", \"value\": 'fav_trump_2016'},\n",
    "                     {\"label\": \"Clinton Favorability\", \"value\":'fav_hrc_2016'},\n",
    "                     {\"label\": \"Sanders Favorability\", \"value\":'fav_sanders_2016'},\n",
    "                     {\"label\": \"Trust toward other people\", \"value\": 'trust_people_2016'},\n",
    "                     {\"label\": \"Civic Participation\", \"value\":'CIVIC_PARTICIPATION_2016'},\n",
    "                     {\"label\": \"Political Correctness\", \"value\": 'POLITICAL_CORRECTNESS_2016'},\n",
    "                     {\"label\": \"Race\", \"value\": 'race_2016'},\n",
    "                     {\"label\": \"Smoking Cigarettes\", \"value\": 'smokenow_2016' },\n",
    "                     {\"label\": \"Education\", \"value\":'educ_2016'},\n",
    "                     {\"label\": \"Marital Status\", \"value\":  'marstat_2016'},\n",
    "                     {\"label\": \"ideology\", \"value\":'ideo5_2016' },\n",
    "                     {\"label\": \"Religion Importance\", \"value\": 'pew_religimp_2016' },\n",
    "                     {\"label\": \"Church Attendance\", \"value\":'pew_churatd_2016'},\n",
    "                     {\"label\": \"Praying Frequency\", \"value\":'pew_prayer_2016'},\n",
    "                     {\"label\": \"Religion\", \"value\":'religpew_2016'},\n",
    "                     {\"label\": \"Urbanicity\", \"value\": 'urbancity_baseline'},\n",
    "                     {\"label\": \"Smoked 100 cigarettes ever\", \"value\":'smoke100_baseline'},\n",
    "                     {\"label\": \"Gender\", \"value\":'gender_baseline' },\n",
    "                     {\"label\": \"Family Income\", \"value\":'faminc_baseline' }],\n",
    "                 multi=False,\n",
    "                 value='newsint_2016',\n",
    "                 style={'width': \"40%\"}\n",
    "                 ),\n",
    "    \n",
    "    dcc.Dropdown(id=\"variable2\",\n",
    "                 options=[\n",
    "                     {\"label\": \"Interest in news\", \"value\": 'newsint_2016'},\n",
    "                     {\"label\": \"Vote for president\", \"value\": 'presvote16post_2016'},\n",
    "                     {\"label\": \"Trump Favorability\", \"value\": 'fav_trump_2016'},\n",
    "                     {\"label\": \"Clinton Favorability\", \"value\":'fav_hrc_2016'},\n",
    "                     {\"label\": \"Sanders Favorability\", \"value\": 'fav_sanders_2016'},\n",
    "                     {\"label\": \"Trust toward other people\", \"value\": 'trust_people_2016'},\n",
    "                     {\"label\": \"Civic Participation\", \"value\":'CIVIC_PARTICIPATION_2016'},\n",
    "                     {\"label\": \"Political Correctness\", \"value\": 'POLITICAL_CORRECTNESS_2016'},\n",
    "                     {\"label\": \"Race\", \"value\": 'race_2016'},\n",
    "                     {\"label\": \"Smoking Cigarettes\", \"value\": 'smokenow_2016' },\n",
    "                     {\"label\": \"Education\", \"value\":'educ_2016'},\n",
    "                     {\"label\": \"Marital Status\", \"value\":  'marstat_2016'},\n",
    "                     {\"label\": \"ideology\", \"value\":'ideo5_2016' },\n",
    "                     {\"label\": \"Religion Importance\", \"value\": 'pew_religimp_2016' },\n",
    "                     {\"label\": \"Church Attendance\", \"value\":'pew_churatd_2016'},\n",
    "                     {\"label\": \"Praying Frequency\", \"value\":'pew_prayer_2016'},\n",
    "                     {\"label\": \"Religion\", \"value\":'religpew_2016'},\n",
    "                     {\"label\": \"Urbanicity\", \"value\": 'urbancity_baseline'},\n",
    "                     {\"label\": \"Smoked 100 cigarettes ever\", \"value\":'smoke100_baseline'},\n",
    "                     {\"label\": \"Gender\", \"value\":'gender_baseline' },\n",
    "                     {\"label\": \"Family Income\", \"value\":'faminc_baseline' }],\n",
    "                 multi=False,\n",
    "                 value='gender_baseline',\n",
    "                 style={'width': \"40%\"}\n",
    "                 ),\n",
    "    \n",
    "    dcc.Dropdown(id=\"type_of_graph\",\n",
    "                 options=[\n",
    "                     {\"label\": \"histogram for first variable\", \"value\": 'histogram1'},\n",
    "                     {\"label\": \"histogram for second variable\", \"value\": 'histogram2'},\n",
    "                     {\"label\": \"parallel plot\", \"value\": 'parallel'},\n",
    "                     {\"label\": \"2D Hist - heat map\", \"value\": \"heatmap\"},\n",
    "                     {\"label\": \"cross table\", \"value\": 'table'},\n",
    "                     {\"label\": \"sun plot\", \"value\": 'sun'}],\n",
    "                 multi=False,\n",
    "                 value='histogram1',\n",
    "                 style={'width': \"40%\"}\n",
    "                 ),\n",
    " \n",
    "    html.Div(id='output_container', children=[]),\n",
    "    html.Br(),\n",
    "\n",
    "    dcc.Graph(id='my_bee_map', figure={})\n",
    "    \n",
    "\n",
    "])\n",
    "    \n",
    "# hist_plot_by_two_values('educ_2016','smoke100_baseline')"
   ]
  },
  {
   "cell_type": "code",
   "execution_count": null,
   "metadata": {
    "scrolled": true
   },
   "outputs": [
    {
     "name": "stdout",
     "output_type": "stream",
     "text": [
      "Dash is running on http://127.0.0.1:8050/\n",
      "\n",
      " * Serving Flask app \"__main__\" (lazy loading)\n",
      " * Environment: production\n",
      "   WARNING: This is a development server. Do not use it in a production deployment.\n",
      "   Use a production WSGI server instead.\n",
      " * Debug mode: off\n"
     ]
    },
    {
     "name": "stderr",
     "output_type": "stream",
     "text": [
      " * Running on http://127.0.0.1:8050/ (Press CTRL+C to quit)\n",
      "127.0.0.1 - - [08/Jan/2022 01:42:22] \"\u001b[37mGET / HTTP/1.1\u001b[0m\" 200 -\n",
      "127.0.0.1 - - [08/Jan/2022 01:42:22] \"\u001b[37mGET /_dash-layout HTTP/1.1\u001b[0m\" 200 -\n",
      "127.0.0.1 - - [08/Jan/2022 01:42:22] \"\u001b[37mGET /_dash-dependencies HTTP/1.1\u001b[0m\" 200 -\n",
      "127.0.0.1 - - [08/Jan/2022 01:42:22] \"\u001b[37mGET /_favicon.ico?v=1.17.0 HTTP/1.1\u001b[0m\" 200 -\n"
     ]
    },
    {
     "name": "stdout",
     "output_type": "stream",
     "text": [
      "newsint_2016\n",
      "<class 'str'>\n",
      "gender_baseline\n",
      "<class 'str'>\n",
      "histogram1\n",
      "<class 'str'>\n"
     ]
    },
    {
     "name": "stderr",
     "output_type": "stream",
     "text": [
      "127.0.0.1 - - [08/Jan/2022 01:42:37] \"\u001b[37mPOST /_dash-update-component HTTP/1.1\u001b[0m\" 200 -\n"
     ]
    },
    {
     "name": "stdout",
     "output_type": "stream",
     "text": [
      "newsint_2016\n",
      "<class 'str'>\n",
      "religpew_2016\n",
      "<class 'str'>\n",
      "histogram1\n",
      "<class 'str'>\n"
     ]
    },
    {
     "name": "stderr",
     "output_type": "stream",
     "text": [
      "127.0.0.1 - - [08/Jan/2022 01:42:41] \"\u001b[37mPOST /_dash-update-component HTTP/1.1\u001b[0m\" 200 -\n"
     ]
    },
    {
     "name": "stdout",
     "output_type": "stream",
     "text": [
      "newsint_2016\n",
      "<class 'str'>\n",
      "religpew_2016\n",
      "<class 'str'>\n",
      "parallel\n",
      "<class 'str'>\n"
     ]
    },
    {
     "name": "stderr",
     "output_type": "stream",
     "text": [
      "127.0.0.1 - - [08/Jan/2022 01:42:45] \"\u001b[37mPOST /_dash-update-component HTTP/1.1\u001b[0m\" 200 -\n",
      "127.0.0.1 - - [08/Jan/2022 01:42:47] \"\u001b[37mPOST /_dash-update-component HTTP/1.1\u001b[0m\" 200 -\n"
     ]
    },
    {
     "name": "stdout",
     "output_type": "stream",
     "text": [
      "newsint_2016\n",
      "<class 'str'>\n",
      "religpew_2016\n",
      "<class 'str'>\n",
      "histogram1\n",
      "<class 'str'>\n",
      "newsint_2016\n",
      "<class 'str'>\n",
      "pew_prayer_2016\n",
      "<class 'str'>\n",
      "histogram1\n",
      "<class 'str'>\n"
     ]
    },
    {
     "name": "stderr",
     "output_type": "stream",
     "text": [
      "127.0.0.1 - - [08/Jan/2022 01:42:49] \"\u001b[37mPOST /_dash-update-component HTTP/1.1\u001b[0m\" 200 -\n"
     ]
    },
    {
     "name": "stdout",
     "output_type": "stream",
     "text": [
      "newsint_2016\n",
      "<class 'str'>\n",
      "pew_prayer_2016\n",
      "<class 'str'>\n",
      "sun\n",
      "<class 'str'>\n"
     ]
    },
    {
     "name": "stderr",
     "output_type": "stream",
     "text": [
      "127.0.0.1 - - [08/Jan/2022 01:42:52] \"\u001b[37mPOST /_dash-update-component HTTP/1.1\u001b[0m\" 200 -\n"
     ]
    },
    {
     "name": "stdout",
     "output_type": "stream",
     "text": [
      "newsint_2016\n",
      "<class 'str'>\n",
      "pew_prayer_2016\n",
      "<class 'str'>\n",
      "heatmap\n",
      "<class 'str'>\n"
     ]
    },
    {
     "name": "stderr",
     "output_type": "stream",
     "text": [
      "127.0.0.1 - - [08/Jan/2022 01:43:48] \"\u001b[37mPOST /_dash-update-component HTTP/1.1\u001b[0m\" 200 -\n"
     ]
    }
   ],
   "source": [
    "from plotly.tools import mpl_to_plotly\n",
    "import matplotlib.image as mpimg \n",
    "import matplotlib.pyplot as plt \n",
    "import plotly.graph_objects as go\n",
    "pd.options.plotting.backend = \"plotly\"\n",
    "import numpy as np      \n",
    "# Read Images \n",
    "\n",
    "\n",
    "\n",
    "# Connect the Plotly graphs with Dash Components\n",
    "@app2.callback(\n",
    "    [Output(component_id='output_container', component_property='children'),\n",
    "     Output(component_id='my_bee_map', component_property='figure')],\n",
    "    [Input(component_id='variable1', component_property='value'),\n",
    "    Input(component_id='variable2', component_property='value'),\n",
    "    Input(component_id='type_of_graph', component_property='value')]\n",
    ")\n",
    "def update_graph(option_slctd1,option_slctd2,option_slctd3):\n",
    "    \n",
    "    \n",
    "    print(option_slctd1)\n",
    "    print(type(option_slctd1))\n",
    "    print(option_slctd2)\n",
    "    print(type(option_slctd2))\n",
    "    print(option_slctd3)\n",
    "    print(type(option_slctd3))\n",
    "    \n",
    "    container = \"Variables chosen by user are: {} and {}, type of data presentation:  {} \".format(option_slctd1,option_slctd2,option_slctd3)\n",
    "    \n",
    "    df=data.copy()\n",
    "    \n",
    "    # Plotly Express\n",
    "    \n",
    "    if(option_slctd3=='histogram1'):\n",
    "        fig = px.histogram(df, x=option_slctd1)\n",
    "        \n",
    "    elif(option_slctd3=='histogram2'):\n",
    "        fig = px.histogram(df, x=option_slctd2)\n",
    "    \n",
    "    elif(option_slctd3==\"heatmap\"):\n",
    "        fig = px.density_heatmap(df, x=option_slctd1, y=option_slctd2)\n",
    "        \n",
    "    elif(option_slctd3=='parallel'):\n",
    "        df2=df[[option_slctd1,option_slctd2]]\n",
    "        fig = px.parallel_categories(df2)\n",
    "        \n",
    "    elif(option_slctd3=='table'):\n",
    "        \n",
    "        crosstab = pd.crosstab( df[option_slctd1],df[option_slctd2])\n",
    "        fig = crosstab.plot.bar()\n",
    "        \n",
    "    elif(option_slctd3=='sun'):\n",
    "        \n",
    "        variable1=option_slctd1\n",
    "        variable2=option_slctd2\n",
    "\n",
    "        df=data.copy()\n",
    "\n",
    "        df=df[[variable1,variable2]]\n",
    "        df['value']=1.0\n",
    "        df=df.dropna()\n",
    "        fig = px.sunburst(df, path=[variable1, variable2],  \n",
    "                          values='value', color=variable2) \n",
    "        \n",
    "    \n",
    "    return container, fig\n",
    "\n",
    "\n",
    "# ------------------------------------------------------------------------------\n",
    "if __name__ == '__main__':\n",
    "    app2.run_server(debug=False)\n",
    "\n"
   ]
  },
  {
   "cell_type": "code",
   "execution_count": null,
   "metadata": {},
   "outputs": [],
   "source": []
  },
  {
   "cell_type": "code",
   "execution_count": null,
   "metadata": {},
   "outputs": [],
   "source": []
  },
  {
   "cell_type": "code",
   "execution_count": null,
   "metadata": {},
   "outputs": [],
   "source": []
  },
  {
   "cell_type": "code",
   "execution_count": null,
   "metadata": {},
   "outputs": [],
   "source": []
  },
  {
   "cell_type": "code",
   "execution_count": null,
   "metadata": {},
   "outputs": [],
   "source": []
  },
  {
   "cell_type": "code",
   "execution_count": null,
   "metadata": {},
   "outputs": [],
   "source": []
  },
  {
   "cell_type": "code",
   "execution_count": null,
   "metadata": {},
   "outputs": [],
   "source": []
  },
  {
   "cell_type": "code",
   "execution_count": null,
   "metadata": {},
   "outputs": [],
   "source": []
  },
  {
   "cell_type": "code",
   "execution_count": null,
   "metadata": {},
   "outputs": [],
   "source": []
  },
  {
   "cell_type": "code",
   "execution_count": null,
   "metadata": {},
   "outputs": [],
   "source": []
  }
 ],
 "metadata": {
  "kernelspec": {
   "display_name": "Python 3",
   "language": "python",
   "name": "python3"
  },
  "language_info": {
   "codemirror_mode": {
    "name": "ipython",
    "version": 3
   },
   "file_extension": ".py",
   "mimetype": "text/x-python",
   "name": "python",
   "nbconvert_exporter": "python",
   "pygments_lexer": "ipython3",
   "version": "3.8.3"
  }
 },
 "nbformat": 4,
 "nbformat_minor": 4
}
